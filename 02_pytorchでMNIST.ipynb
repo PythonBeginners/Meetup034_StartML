{
 "cells": [
  {
   "cell_type": "markdown",
   "metadata": {},
   "source": [
    "<a href=\"https://colab.research.google.com/github/PythonBeginners/Meetup034_StartML/blob/main/\" target=\"_parent\"><img src=\"https://colab.research.google.com/assets/colab-badge.svg\" alt=\"Open In Colab\"/></a>"
   ]
  },
  {
   "cell_type": "markdown",
   "metadata": {},
   "source": [
    "#### 参考URL\n",
    "https://qiita.com/fukuit/items/215ef75113d97560e599"
   ]
  },
  {
   "cell_type": "markdown",
   "metadata": {},
   "source": [
    "#### PyTorchのインストールについて\n",
    "- Google Colabにはデフォルトでpytorchが入っているので、pipで入れる必要はありません"
   ]
  },
  {
   "cell_type": "code",
   "execution_count": 1,
   "metadata": {},
   "outputs": [],
   "source": [
    "# !pip install -U torch torchvision"
   ]
  },
  {
   "cell_type": "markdown",
   "metadata": {},
   "source": [
    "#### ライブラリのimport"
   ]
  },
  {
   "cell_type": "code",
   "execution_count": 2,
   "metadata": {},
   "outputs": [],
   "source": [
    "import torch\n",
    "import torchvision\n",
    "import torchvision.transforms as transforms\n",
    "import numpy as np\n",
    "\n",
    "print(torch.__version__)"
   ]
  },
  {
   "cell_type": "code",
   "execution_count": null,
   "metadata": {},
   "outputs": [],
   "source": [
    "# GPU(CUDA)が使えるときはGPUを使う\n",
    "device = 'cuda' if torch.cuda.is_available() else 'cpu'\n",
    "device"
   ]
  },
  {
   "cell_type": "markdown",
   "metadata": {},
   "source": [
    "#### 標準化\n",
    "[transforms.Compose()](https://pytorch.org/docs/stable/torchvision/transforms.html)によって、MNISTの各ピクセル値を正規分布になるように変換します。\n",
    "以下は公式のリファレンスより抜粋\n",
    "\n",
    "```\n",
    "Normalize a tensor image with mean and standard deviation. Given mean: (M1,...,Mn) and std: (S1,..,Sn) for n channels, this transform will normalize each channel of the input torch.*Tensor i.e. output[channel] = (input[channel] - mean[channel]) / std[channel]\n",
    "```\n",
    "\n",
    "以下のコードではmean=0.5、std=0.5となるように変換するフィルタを定義しています。"
   ]
  },
  {
   "cell_type": "code",
   "execution_count": 3,
   "metadata": {},
   "outputs": [],
   "source": [
    "transform = transforms.Compose(\n",
    "    [transforms.ToTensor(),\n",
    "     transforms.Normalize((0.5, ), (0.5, ))])"
   ]
  },
  {
   "cell_type": "markdown",
   "metadata": {},
   "source": [
    "#### データのダウンロード"
   ]
  },
  {
   "cell_type": "code",
   "execution_count": 4,
   "metadata": {},
   "outputs": [],
   "source": [
    "trainset = torchvision.datasets.MNIST(root='./data', \n",
    "                                        train=True,\n",
    "                                        download=True,\n",
    "                                        transform=transform)\n",
    "trainloader = torch.utils.data.DataLoader(trainset,\n",
    "                                            batch_size=100,\n",
    "                                            shuffle=True,\n",
    "                                            num_workers=2)\n",
    "\n",
    "testset = torchvision.datasets.MNIST(root='./data', \n",
    "                                        train=False, \n",
    "                                        download=True, \n",
    "                                        transform=transform)\n",
    "testloader = torch.utils.data.DataLoader(testset, \n",
    "                                            batch_size=100,\n",
    "                                            shuffle=False, \n",
    "                                            num_workers=2)\n",
    "\n",
    "classes = tuple(np.linspace(0, 9, 10, dtype=np.uint8))"
   ]
  },
  {
   "cell_type": "markdown",
   "metadata": {},
   "source": [
    "#### NeuralNetの定義"
   ]
  },
  {
   "cell_type": "code",
   "execution_count": 5,
   "metadata": {},
   "outputs": [],
   "source": [
    "import torch.nn as nn\n",
    "import torch.nn.functional as F\n",
    "\n",
    "\n",
    "class Net(nn.Module):\n",
    "    def __init__(self):\n",
    "        super(Net, self).__init__()\n",
    "        self.conv1 = nn.Conv2d(1, 32, 3) # 28x28x32 -> 26x26x32\n",
    "        self.conv2 = nn.Conv2d(32, 64, 3) # 26x26x64 -> 24x24x64 \n",
    "        self.pool = nn.MaxPool2d(2, 2) # 24x24x64 -> 12x12x64\n",
    "        self.dropout1 = nn.Dropout2d()\n",
    "        self.fc1 = nn.Linear(12 * 12 * 64, 128)\n",
    "        self.dropout2 = nn.Dropout2d()\n",
    "        self.fc2 = nn.Linear(128, 10)\n",
    "\n",
    "    def forward(self, x):\n",
    "        x = F.relu(self.conv1(x))\n",
    "        x = self.pool(F.relu(self.conv2(x)))\n",
    "        x = self.dropout1(x)\n",
    "        x = x.view(-1, 12 * 12 * 64)\n",
    "        x = F.relu(self.fc1(x))\n",
    "        x = self.dropout2(x)\n",
    "        x = self.fc2(x)\n",
    "        return x"
   ]
  },
  {
   "cell_type": "code",
   "execution_count": 6,
   "metadata": {},
   "outputs": [],
   "source": [
    "net = Net().to(device)"
   ]
  },
  {
   "cell_type": "markdown",
   "metadata": {},
   "source": [
    "#### loss関数と最適化の設定をする"
   ]
  },
  {
   "cell_type": "code",
   "execution_count": 7,
   "metadata": {},
   "outputs": [],
   "source": [
    "import torch.optim as optim\n",
    "\n",
    "criterion = nn.CrossEntropyLoss()\n",
    "optimizer = optim.SGD(net.parameters(), lr=0.001, momentum=0.9)"
   ]
  },
  {
   "cell_type": "code",
   "execution_count": 8,
   "metadata": {},
   "outputs": [
    {
     "name": "stdout",
     "output_type": "stream",
     "text": [
      "[1,   100] loss: 2.208\n",
      "[1,   200] loss: 1.542\n",
      "[1,   300] loss: 0.833\n",
      "[1,   400] loss: 0.655\n",
      "[1,   500] loss: 0.568\n",
      "[1,   600] loss: 0.518\n",
      "[2,   100] loss: 0.491\n",
      "[2,   200] loss: 0.431\n",
      "[2,   300] loss: 0.424\n",
      "[2,   400] loss: 0.382\n",
      "[2,   500] loss: 0.387\n",
      "[2,   600] loss: 0.361\n",
      "[3,   100] loss: 0.345\n",
      "[3,   200] loss: 0.334\n",
      "[3,   300] loss: 0.313\n",
      "[3,   400] loss: 0.305\n",
      "[3,   500] loss: 0.298\n",
      "[3,   600] loss: 0.280\n",
      "[4,   100] loss: 0.283\n",
      "[4,   200] loss: 0.259\n",
      "[4,   300] loss: 0.232\n",
      "[4,   400] loss: 0.245\n",
      "[4,   500] loss: 0.253\n",
      "[4,   600] loss: 0.233\n",
      "[5,   100] loss: 0.229\n",
      "[5,   200] loss: 0.230\n",
      "[5,   300] loss: 0.213\n",
      "[5,   400] loss: 0.203\n",
      "[5,   500] loss: 0.196\n",
      "[5,   600] loss: 0.203\n",
      "Finished Training\n"
     ]
    }
   ],
   "source": [
    "epochs = 5\n",
    "\n",
    "for epoch in range(epochs):\n",
    "    running_loss = 0.0\n",
    "    for i, (inputs, labels) in enumerate(trainloader, 0):\n",
    "\n",
    "        # GPUが使える時はGPUにデータを送る\n",
    "        inputs = inputs.to(device)\n",
    "        labels = labels.to(device)\n",
    "        \n",
    "        # zero the parameter gradients\n",
    "        optimizer.zero_grad()\n",
    "\n",
    "        # forward + backward + optimize\n",
    "        outputs = net(inputs)\n",
    "        loss = criterion(outputs, labels)\n",
    "        loss.backward()\n",
    "        optimizer.step()\n",
    "\n",
    "        # print statistics\n",
    "        running_loss += loss.item()\n",
    "        if i % 100 == 99:\n",
    "            print('[{:d}, {:5d}] loss: {:.3f}'\n",
    "                    .format(epoch + 1, i + 1, running_loss / 100))\n",
    "            running_loss = 0.0\n",
    "\n",
    "print('Finished Training')"
   ]
  },
  {
   "cell_type": "code",
   "execution_count": 9,
   "metadata": {},
   "outputs": [
    {
     "name": "stdout",
     "output_type": "stream",
     "text": [
      "Accuracy: 94.54 %%\n"
     ]
    }
   ],
   "source": [
    "correct = 0\n",
    "total = 0\n",
    "\n",
    "with torch.no_grad():\n",
    "    for (inputs, labels) in testloader:\n",
    "\n",
    "        # GPUが使える時はGPUにデータを送る\n",
    "        inputs = inputs.to(device)\n",
    "        labels = labels.to(device)\n",
    "        \n",
    "        outputs = net(images)\n",
    "        _, predicted = torch.max(outputs.data, 1)\n",
    "        total += labels.size(0)\n",
    "        correct += (predicted == labels).sum().item()\n",
    "print('Accuracy: {:.2f} %%'.format(100 * float(correct/total)))"
   ]
  },
  {
   "cell_type": "markdown",
   "metadata": {},
   "source": [
    "# やってみよう！\n",
    "- 画像を可視化してみよう！\n",
    "- 当てられている画像と当てられていない画像をそれぞれ可視化してみよう！\n",
    "- precision、recall、f1-scoreを出してみよう！\n",
    "- 学習曲線を出してみよう！\n",
    "- validationスコア、testスコアを出してみよう！\n",
    "- cross-validationしてみよう！\n",
    "- あまりにも汚い手書き文字は取り除いて学習してみよう！"
   ]
  },
  {
   "cell_type": "code",
   "execution_count": null,
   "metadata": {},
   "outputs": [],
   "source": []
  }
 ],
 "metadata": {
  "kernelspec": {
   "display_name": "Python 3 (ipykernel)",
   "language": "python",
   "name": "python3"
  },
  "language_info": {
   "codemirror_mode": {
    "name": "ipython",
    "version": 3
   },
   "file_extension": ".py",
   "mimetype": "text/x-python",
   "name": "python",
   "nbconvert_exporter": "python",
   "pygments_lexer": "ipython3",
   "version": "3.10.8"
  }
 },
 "nbformat": 4,
 "nbformat_minor": 4
}
